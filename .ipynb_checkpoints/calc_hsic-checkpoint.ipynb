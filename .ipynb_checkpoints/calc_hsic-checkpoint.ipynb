{
 "cells": [
  {
   "cell_type": "code",
   "execution_count": 1,
   "metadata": {},
   "outputs": [],
   "source": [
    "import numpy as np\n",
    "from tqdm import tqdm_notebook as tqdm\n",
    "from sklearn.preprocessing import StandardScaler"
   ]
  },
  {
   "cell_type": "markdown",
   "metadata": {},
   "source": [
    "### Load intermediate layer output"
   ]
  },
  {
   "cell_type": "code",
   "execution_count": 2,
   "metadata": {},
   "outputs": [],
   "source": [
    "in_data = np.load('data/dnn_base/in_data.npy')\n",
    "\n",
    "layer1_output = np.load('data/dnn_base/layer1_output.npy')\n",
    "layer2_output = np.load('data/dnn_base/layer2_output.npy')\n",
    "layer3_output = np.load('data/dnn_base/layer3_output.npy')\n",
    "layer4_output = np.load('data/dnn_base/layer4_output.npy')\n",
    "layer5_output = np.load('data/dnn_base/layer5_output.npy')\n",
    "\n",
    "activation1_output = np.load('data/dnn_base/activation1_output.npy')\n",
    "activation2_output = np.load('data/dnn_base/activation2_output.npy')\n",
    "activation3_output = np.load('data/dnn_base/activation3_output.npy')\n",
    "activation4_output = np.load('data/dnn_base/activation4_output.npy')\n",
    "activation5_output = np.load('data/dnn_base/activation5_output.npy')"
   ]
  },
  {
   "cell_type": "code",
   "execution_count": 3,
   "metadata": {},
   "outputs": [
    {
     "name": "stdout",
     "output_type": "stream",
     "text": [
      "\n",
      "Model intermediate layer output\n",
      "==========================\n",
      "\n",
      "in_data : (10000, 784)\n",
      "----------------------------------------------\n",
      "layer1_output : (10000, 512)\n",
      "----------------------------------------------\n",
      "activation1_output : (10000, 512)\n",
      "----------------------------------------------\n",
      "layer2_output : (10000, 256)\n",
      "----------------------------------------------\n",
      "activation2_output : (10000, 256)\n",
      "----------------------------------------------\n",
      "layer3_output : (10000, 128)\n",
      "----------------------------------------------\n",
      "activation3_output : (10000, 128)\n",
      "----------------------------------------------\n",
      "layer4_output : (10000, 64)\n",
      "----------------------------------------------\n",
      "activation4_output : (10000, 64)\n",
      "----------------------------------------------\n",
      "layer5_output : (10000, 10)\n",
      "----------------------------------------------\n",
      "activation5_output : (10000, 10)\n"
     ]
    }
   ],
   "source": [
    "print()\n",
    "print(\"Model intermediate layer output\")\n",
    "print(\"==========================\")\n",
    "print()\n",
    "print(\"in_data :\", in_data.shape)\n",
    "print(\"----------------------------------------------\")\n",
    "print(\"layer1_output :\", layer1_output.shape)\n",
    "print(\"----------------------------------------------\")\n",
    "print(\"activation1_output :\", activation1_output.shape)\n",
    "print(\"----------------------------------------------\")\n",
    "print(\"layer2_output :\", layer2_output.shape)\n",
    "print(\"----------------------------------------------\")\n",
    "print(\"activation2_output :\", activation2_output.shape)\n",
    "print(\"----------------------------------------------\")\n",
    "print(\"layer3_output :\", layer3_output.shape)\n",
    "print(\"----------------------------------------------\")\n",
    "print(\"activation3_output :\", activation3_output.shape)\n",
    "print(\"----------------------------------------------\")\n",
    "print(\"layer4_output :\", layer4_output.shape)\n",
    "print(\"----------------------------------------------\")\n",
    "print(\"activation4_output :\", activation4_output.shape)\n",
    "print(\"----------------------------------------------\")\n",
    "print(\"layer5_output :\", layer5_output.shape)\n",
    "print(\"----------------------------------------------\")\n",
    "print(\"activation5_output :\", activation5_output.shape) # <------- softmax func"
   ]
  },
  {
   "cell_type": "markdown",
   "metadata": {},
   "source": [
    "### Kernel Tools"
   ]
  },
  {
   "cell_type": "code",
   "execution_count": 12,
   "metadata": {},
   "outputs": [],
   "source": [
    "class RBFkernel():\n",
    "    def __init__(self, sigma=0.5):\n",
    "        self.sigma = sigma\n",
    "        \n",
    "    def __call__(self, x, y):\n",
    "        numerator = -1 * np.linalg.norm(x - y, ord=2)**2\n",
    "        denominator = 2 * (self.sigma**2)\n",
    "        return np.exp(numerator / denominator)\n",
    "    \n",
    "    def get_params(self):\n",
    "        return self.sigma\n",
    "    \n",
    "    def set_params(self, sigma):\n",
    "        self.sigma = sigma\n",
    "                \n",
    "            \n",
    "def gram_matrix(kernel, data, m):\n",
    "    \"\"\"\n",
    "    Arguments:\n",
    "    =========\n",
    "    - kernel : kernel function \n",
    "    - data : data samples, shape=(m, dim(data_i))\n",
    "    - m : number of samples\n",
    "    \"\"\"\n",
    "    gram_matrix = np.zeros((m, m))\n",
    "    for i in tqdm(range(m)):\n",
    "        for j in range(m):\n",
    "            gram_matrix[i][j] = kernel(data[i], data[j])\n",
    "            \n",
    "    return gram_matrix\n",
    "\n",
    "\n",
    "def hsic(k, l, m, X, Y):\n",
    "    \"\"\"\n",
    "    Arguments:\n",
    "    =========\n",
    "    - k : kernel function for X\n",
    "    - l : kernel function for Y\n",
    "    - m : number of samples\n",
    "    - X : data samples, shape=(m, dim(X_i))\n",
    "    - Y : data samples, shape=(m, dim(Y_i))\n",
    "    \"\"\"\n",
    "    H = np.full((m, m), -(1/m)) + np.eye(m)\n",
    "    K = gram_matrix(k, X, m)\n",
    "    print(\"Gram(X) :\", K, \"\\nGram(X) mean :\", K.mean())\n",
    "    L = gram_matrix(l, Y, m)\n",
    "    print(\"Gram(Y) :\", L, \"\\nGram(Y) mean :\", L.mean())\n",
    "    HSIC = np.trace(np.dot(K, np.dot(H, np.dot(L, H)))) / ((m - 1)**2)\n",
    "    return HSIC"
   ]
  },
  {
   "cell_type": "markdown",
   "metadata": {},
   "source": [
    "**sample code**\n",
    "\n",
    "```python\n",
    "kernel = RBFkernel(sigma=1)\n",
    "kernel(np.array([1,2,3]), np.array([1,2,6]))\n",
    "```\n",
    "Output: 0.011108996538242306"
   ]
  },
  {
   "cell_type": "markdown",
   "metadata": {},
   "source": [
    "### Measuring HSIC"
   ]
  },
  {
   "cell_type": "code",
   "execution_count": null,
   "metadata": {},
   "outputs": [
    {
     "name": "stdout",
     "output_type": "stream",
     "text": [
      "X.shape : (10000, 784)\n",
      "Y.shape : (10000, 784)\n"
     ]
    },
    {
     "data": {
      "application/vnd.jupyter.widget-view+json": {
       "model_id": "06ca66be571441ada48aa312d0cedfaf",
       "version_major": 2,
       "version_minor": 0
      },
      "text/plain": [
       "HBox(children=(IntProgress(value=0, max=10000), HTML(value='')))"
      ]
     },
     "metadata": {},
     "output_type": "display_data"
    }
   ],
   "source": [
    "# In_data vs layer1_output\n",
    "# 40 min\n",
    "\n",
    "m=10000\n",
    "# ----------------------------\n",
    "X = in_data\n",
    "Y = in_data\n",
    "# ----------------------------\n",
    "\n",
    "print(\"X.shape :\", X.shape)\n",
    "print(\"Y.shape :\", Y.shape)\n",
    "\n",
    "kernel_x = RBFkernel(sigma=75)\n",
    "kernel_y = RBFkernel(sigma=75 * np.sqrt(X.shape[1]/Y.shape[1]))\n",
    "\n",
    "hsic_value = hsic(kernel_x, kernel_y, m, X, Y)\n",
    "print(\"HSIC =\", hsic_value)"
   ]
  },
  {
   "cell_type": "code",
   "execution_count": 5,
   "metadata": {},
   "outputs": [
    {
     "name": "stdout",
     "output_type": "stream",
     "text": [
      "X.shape : (10000, 784)\n",
      "Y.shape : (10000, 512)\n"
     ]
    },
    {
     "data": {
      "application/vnd.jupyter.widget-view+json": {
       "model_id": "95b808b2b65d443083d6876048ede476",
       "version_major": 2,
       "version_minor": 0
      },
      "text/plain": [
       "HBox(children=(IntProgress(value=0, max=10000), HTML(value='')))"
      ]
     },
     "metadata": {},
     "output_type": "display_data"
    },
    {
     "name": "stdout",
     "output_type": "stream",
     "text": [
      "\n",
      "GramMatrix : [[1.         0.9887758  0.9935449  ... 0.99294203 0.99180394 0.98631674]\n",
      " [0.9887758  1.         0.99145562 ... 0.98640696 0.99069777 0.98744565]\n",
      " [0.9935449  0.99145562 1.         ... 0.99248119 0.99297051 0.98807993]\n",
      " ...\n",
      " [0.99294203 0.98640696 0.99248119 ... 1.         0.99240353 0.98850993]\n",
      " [0.99180394 0.99069777 0.99297051 ... 0.99240353 1.         0.98790197]\n",
      " [0.98631674 0.98744565 0.98807993 ... 0.98850993 0.98790197 1.        ]]\n",
      "GramMatrix mean : 0.9906519159899633\n"
     ]
    },
    {
     "data": {
      "application/vnd.jupyter.widget-view+json": {
       "model_id": "61b1848aa67c49148c53034126f1a9a7",
       "version_major": 2,
       "version_minor": 0
      },
      "text/plain": [
       "HBox(children=(IntProgress(value=0, max=10000), HTML(value='')))"
      ]
     },
     "metadata": {},
     "output_type": "display_data"
    },
    {
     "name": "stdout",
     "output_type": "stream",
     "text": [
      "\n",
      "GramMatrix : [[1.         0.29767587 0.5740685  ... 0.55433925 0.49301655 0.22334681]\n",
      " [0.29767587 1.         0.39467914 ... 0.22619553 0.33865132 0.32410016]\n",
      " [0.5740685  0.39467914 1.         ... 0.43806588 0.4842447  0.22078869]\n",
      " ...\n",
      " [0.55433925 0.22619553 0.43806588 ... 1.         0.51134009 0.31106015]\n",
      " [0.49301655 0.33865132 0.4842447  ... 0.51134009 1.         0.27334086]\n",
      " [0.22334681 0.32410016 0.22078869 ... 0.31106015 0.27334086 1.        ]]\n",
      "GramMatrix mean : 0.4446806396698412\n",
      "HSIC = 0.0001690372894172779\n"
     ]
    }
   ],
   "source": [
    "# In_data vs layer1_output\n",
    "# 40 min\n",
    "\n",
    "# ----------------------------\n",
    "X = in_data\n",
    "Y = layer1_output\n",
    "# ----------------------------\n",
    "\n",
    "m =10000\n",
    "print(\"X.shape :\", X.shape)\n",
    "print(\"Y.shape :\", Y.shape)\n",
    "\n",
    "kernel_x = RBFkernel(sigma=75)\n",
    "kernel_y = RBFkernel(sigma=75 * np.sqrt(X.shape[1]/Y.shape[1]))\n",
    "\n",
    "hsic_value = hsic(kernel_x, kernel_y, m, X, Y)\n",
    "print(\"HSIC =\", hsic_value)"
   ]
  },
  {
   "cell_type": "code",
   "execution_count": null,
   "metadata": {},
   "outputs": [],
   "source": []
  },
  {
   "cell_type": "code",
   "execution_count": null,
   "metadata": {},
   "outputs": [],
   "source": []
  },
  {
   "cell_type": "code",
   "execution_count": null,
   "metadata": {},
   "outputs": [],
   "source": []
  },
  {
   "cell_type": "markdown",
   "metadata": {},
   "source": [
    "## TODO: gram_matrix: K,Lを導出後に，data/calc_hsic/以下へ.npyで保存する"
   ]
  },
  {
   "cell_type": "code",
   "execution_count": null,
   "metadata": {},
   "outputs": [],
   "source": []
  },
  {
   "cell_type": "code",
   "execution_count": null,
   "metadata": {},
   "outputs": [],
   "source": []
  },
  {
   "cell_type": "code",
   "execution_count": null,
   "metadata": {},
   "outputs": [],
   "source": []
  },
  {
   "cell_type": "code",
   "execution_count": null,
   "metadata": {},
   "outputs": [],
   "source": []
  },
  {
   "cell_type": "code",
   "execution_count": null,
   "metadata": {},
   "outputs": [],
   "source": []
  },
  {
   "cell_type": "code",
   "execution_count": null,
   "metadata": {},
   "outputs": [],
   "source": []
  },
  {
   "cell_type": "code",
   "execution_count": null,
   "metadata": {},
   "outputs": [],
   "source": []
  },
  {
   "cell_type": "code",
   "execution_count": null,
   "metadata": {},
   "outputs": [],
   "source": []
  }
 ],
 "metadata": {
  "kernelspec": {
   "display_name": "Python 3",
   "language": "python",
   "name": "python3"
  },
  "language_info": {
   "codemirror_mode": {
    "name": "ipython",
    "version": 3
   },
   "file_extension": ".py",
   "mimetype": "text/x-python",
   "name": "python",
   "nbconvert_exporter": "python",
   "pygments_lexer": "ipython3",
   "version": "3.5.2"
  },
  "toc": {
   "base_numbering": 1,
   "nav_menu": {},
   "number_sections": true,
   "sideBar": true,
   "skip_h1_title": false,
   "title_cell": "Table of Contents",
   "title_sidebar": "Contents",
   "toc_cell": false,
   "toc_position": {},
   "toc_section_display": true,
   "toc_window_display": false
  }
 },
 "nbformat": 4,
 "nbformat_minor": 2
}
